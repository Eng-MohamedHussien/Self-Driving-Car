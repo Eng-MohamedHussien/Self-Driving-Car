{
 "cells": [
  {
   "cell_type": "code",
   "execution_count": 42,
   "metadata": {},
   "outputs": [],
   "source": [
    "# Do relevant imports\n",
    "import matplotlib.pyplot as plt\n",
    "import matplotlib.image as mpimg\n",
    "import numpy as np\n",
    "import cv2\n",
    "\n",
    "cap = cv2.VideoCapture('challenge.mp4')\n",
    "\n",
    "# Define the codec and create VideoWriter object\n",
    "fourcc = cv2.VideoWriter_fourcc(*'XVID')\n",
    "writer = cv2.VideoWriter(\"output3.avi\",fourcc,20.0,(960,540))\n",
    "\n",
    "while(cap.isOpened()):\n",
    "    ret, frame = cap.read()\n",
    "    if ret==True:\n",
    "        gray = cv2.cvtColor(frame,cv2.COLOR_RGB2GRAY)\n",
    "        # Define a kernel size and apply Gaussian smoothing\n",
    "        kernel_size = 5\n",
    "        blur_gray = cv2.GaussianBlur(gray,(kernel_size, kernel_size),0)\n",
    "        # Define our parameters for Canny and apply\n",
    "        low_threshold = 60\n",
    "        high_threshold = 180\n",
    "        masked_edges = cv2.Canny(blur_gray, low_threshold, high_threshold)\n",
    "        #region of interest\n",
    "        triangle = np.array([(100,650),(1200,650),(700,400)])\n",
    "        black = np.zeros_like(masked_edges)\n",
    "        cv2.fillPoly(black,np.array([triangle], dtype=np.int32),255)\n",
    "        inputImage = cv2.bitwise_and(black,masked_edges)\n",
    "        # Define the Hough transform parameters\n",
    "        # Make a blank the same size as our image to draw on\n",
    "        rho = 1\n",
    "        theta = np.pi/180\n",
    "        threshold = 80\n",
    "        min_line_length = 10\n",
    "        max_line_gap = 1\n",
    "        line_image = np.copy(frame)*0 #creating a blank to draw lines on\n",
    "\n",
    "        # Run Hough on edge detected image\n",
    "        lines = cv2.HoughLinesP(inputImage, rho, theta, threshold, np.array([]),\n",
    "                                    min_line_length, max_line_gap)\n",
    "\n",
    "        # Iterate over the output \"lines\" and draw lines on the blank\n",
    "        for line in lines:\n",
    "            for x1,y1,x2,y2 in line:\n",
    "                cv2.line(line_image,(x1,y1),(x2,y2),(255,0,0),10)\n",
    "        # Draw the lines on the edge image\n",
    "        combo = cv2.addWeighted(frame, 0.8, line_image, 1, 0) \n",
    "        cv2.imshow('frame', combo)\n",
    "        writer.write(combo)\n",
    "        cv2.imshow('',masked_edges)\n",
    "        if cv2.waitKey(1) & 0xFF == ord('q'):\n",
    "            break\n",
    "    else:\n",
    "        break\n",
    "\n",
    "# Release everything if job is finished\n",
    "cap.release()\n",
    "writer.release()\n",
    "cv2.destroyAllWindows()"
   ]
  },
  {
   "cell_type": "code",
   "execution_count": null,
   "metadata": {},
   "outputs": [],
   "source": []
  }
 ],
 "metadata": {
  "kernelspec": {
   "display_name": "Python 3",
   "language": "python",
   "name": "python3"
  },
  "language_info": {
   "codemirror_mode": {
    "name": "ipython",
    "version": 3
   },
   "file_extension": ".py",
   "mimetype": "text/x-python",
   "name": "python",
   "nbconvert_exporter": "python",
   "pygments_lexer": "ipython3",
   "version": "3.6.6"
  }
 },
 "nbformat": 4,
 "nbformat_minor": 2
}
